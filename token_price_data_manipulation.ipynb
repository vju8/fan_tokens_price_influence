{
 "cells": [
  {
   "cell_type": "code",
   "execution_count": 2,
   "id": "61f7a5e1-67df-426d-a6fa-1e1bff96a245",
   "metadata": {},
   "outputs": [],
   "source": [
    "import pandas as pd \n",
    "import numpy as np\n",
    "import re\n",
    "from unidecode import unidecode\n",
    "import os\n",
    "pd.options.display.max_rows = 20"
   ]
  },
  {
   "cell_type": "markdown",
   "id": "0bc5ec66-5ae2-4f7e-80c1-57d4c7c9adc1",
   "metadata": {
    "tags": []
   },
   "source": [
    "## Load the token_prices DataFrames from data mined previously "
   ]
  },
  {
   "cell_type": "code",
   "execution_count": 3,
   "id": "045b1c2f-1052-4889-acc1-c8136303a211",
   "metadata": {},
   "outputs": [],
   "source": [
    "df_token_prices_raw = pd.read_csv(\"Raw Data/All Fan Tokens Price Historical Data.csv\",\n",
    "                                 delimiter = \",\", usecols = list(range(2,10)))\n",
    "df_clubs_token_names = pd.read_csv(\"Raw Data/clubs_and_token_names.csv\",\n",
    "                                   delimiter = \",\")"
   ]
  },
  {
   "cell_type": "code",
   "execution_count": 4,
   "id": "dfda1597-50f8-4e16-9e03-71cd84906676",
   "metadata": {},
   "outputs": [
    {
     "data": {
      "text/html": [
       "<div>\n",
       "<style scoped>\n",
       "    .dataframe tbody tr th:only-of-type {\n",
       "        vertical-align: middle;\n",
       "    }\n",
       "\n",
       "    .dataframe tbody tr th {\n",
       "        vertical-align: top;\n",
       "    }\n",
       "\n",
       "    .dataframe thead th {\n",
       "        text-align: right;\n",
       "    }\n",
       "</style>\n",
       "<table border=\"1\" class=\"dataframe\">\n",
       "  <thead>\n",
       "    <tr style=\"text-align: right;\">\n",
       "      <th></th>\n",
       "      <th>Club_Name</th>\n",
       "      <th>Token_Name</th>\n",
       "      <th>Date</th>\n",
       "      <th>Open</th>\n",
       "      <th>High</th>\n",
       "      <th>Low</th>\n",
       "      <th>Close</th>\n",
       "      <th>Volume</th>\n",
       "    </tr>\n",
       "  </thead>\n",
       "  <tbody>\n",
       "    <tr>\n",
       "      <th>0</th>\n",
       "      <td>AC Milan Fan Token</td>\n",
       "      <td>ACM8538-USD</td>\n",
       "      <td>2021-02-23</td>\n",
       "      <td>6.434881</td>\n",
       "      <td>7.215720</td>\n",
       "      <td>4.278654</td>\n",
       "      <td>5.944448</td>\n",
       "      <td>0.0</td>\n",
       "    </tr>\n",
       "    <tr>\n",
       "      <th>1</th>\n",
       "      <td>AC Milan Fan Token</td>\n",
       "      <td>ACM8538-USD</td>\n",
       "      <td>2021-02-24</td>\n",
       "      <td>5.936040</td>\n",
       "      <td>24.811480</td>\n",
       "      <td>5.487044</td>\n",
       "      <td>18.385660</td>\n",
       "      <td>202569267.0</td>\n",
       "    </tr>\n",
       "    <tr>\n",
       "      <th>2</th>\n",
       "      <td>AC Milan Fan Token</td>\n",
       "      <td>ACM8538-USD</td>\n",
       "      <td>2021-02-25</td>\n",
       "      <td>17.907387</td>\n",
       "      <td>21.777693</td>\n",
       "      <td>14.779701</td>\n",
       "      <td>14.827024</td>\n",
       "      <td>103583152.0</td>\n",
       "    </tr>\n",
       "    <tr>\n",
       "      <th>3</th>\n",
       "      <td>AC Milan Fan Token</td>\n",
       "      <td>ACM8538-USD</td>\n",
       "      <td>2021-02-26</td>\n",
       "      <td>14.754595</td>\n",
       "      <td>16.035860</td>\n",
       "      <td>11.895096</td>\n",
       "      <td>12.321579</td>\n",
       "      <td>17046412.0</td>\n",
       "    </tr>\n",
       "    <tr>\n",
       "      <th>4</th>\n",
       "      <td>AC Milan Fan Token</td>\n",
       "      <td>ACM8538-USD</td>\n",
       "      <td>2021-02-27</td>\n",
       "      <td>12.336160</td>\n",
       "      <td>14.357585</td>\n",
       "      <td>12.148839</td>\n",
       "      <td>12.433650</td>\n",
       "      <td>10146625.0</td>\n",
       "    </tr>\n",
       "    <tr>\n",
       "      <th>...</th>\n",
       "      <td>...</td>\n",
       "      <td>...</td>\n",
       "      <td>...</td>\n",
       "      <td>...</td>\n",
       "      <td>...</td>\n",
       "      <td>...</td>\n",
       "      <td>...</td>\n",
       "      <td>...</td>\n",
       "    </tr>\n",
       "    <tr>\n",
       "      <th>45707</th>\n",
       "      <td>Young Boys Fan Token</td>\n",
       "      <td>YBO-USD</td>\n",
       "      <td>2023-05-03</td>\n",
       "      <td>0.501151</td>\n",
       "      <td>0.510026</td>\n",
       "      <td>0.474290</td>\n",
       "      <td>0.499208</td>\n",
       "      <td>21902.0</td>\n",
       "    </tr>\n",
       "    <tr>\n",
       "      <th>45708</th>\n",
       "      <td>Young Boys Fan Token</td>\n",
       "      <td>YBO-USD</td>\n",
       "      <td>2023-05-04</td>\n",
       "      <td>0.499161</td>\n",
       "      <td>0.509820</td>\n",
       "      <td>0.484603</td>\n",
       "      <td>0.494228</td>\n",
       "      <td>21723.0</td>\n",
       "    </tr>\n",
       "    <tr>\n",
       "      <th>45709</th>\n",
       "      <td>Young Boys Fan Token</td>\n",
       "      <td>YBO-USD</td>\n",
       "      <td>2023-05-05</td>\n",
       "      <td>0.494231</td>\n",
       "      <td>0.503893</td>\n",
       "      <td>0.471165</td>\n",
       "      <td>0.483334</td>\n",
       "      <td>20773.0</td>\n",
       "    </tr>\n",
       "    <tr>\n",
       "      <th>45710</th>\n",
       "      <td>Young Boys Fan Token</td>\n",
       "      <td>YBO-USD</td>\n",
       "      <td>2023-05-06</td>\n",
       "      <td>NaN</td>\n",
       "      <td>NaN</td>\n",
       "      <td>NaN</td>\n",
       "      <td>NaN</td>\n",
       "      <td>NaN</td>\n",
       "    </tr>\n",
       "    <tr>\n",
       "      <th>45711</th>\n",
       "      <td>Young Boys Fan Token</td>\n",
       "      <td>YBO-USD</td>\n",
       "      <td>2023-05-07</td>\n",
       "      <td>0.451819</td>\n",
       "      <td>0.461414</td>\n",
       "      <td>0.447729</td>\n",
       "      <td>0.453547</td>\n",
       "      <td>18960.0</td>\n",
       "    </tr>\n",
       "  </tbody>\n",
       "</table>\n",
       "<p>45712 rows × 8 columns</p>\n",
       "</div>"
      ],
      "text/plain": [
       "                  Club_Name   Token_Name        Date       Open       High  \\\n",
       "0        AC Milan Fan Token  ACM8538-USD  2021-02-23   6.434881   7.215720   \n",
       "1        AC Milan Fan Token  ACM8538-USD  2021-02-24   5.936040  24.811480   \n",
       "2        AC Milan Fan Token  ACM8538-USD  2021-02-25  17.907387  21.777693   \n",
       "3        AC Milan Fan Token  ACM8538-USD  2021-02-26  14.754595  16.035860   \n",
       "4        AC Milan Fan Token  ACM8538-USD  2021-02-27  12.336160  14.357585   \n",
       "...                     ...          ...         ...        ...        ...   \n",
       "45707  Young Boys Fan Token      YBO-USD  2023-05-03   0.501151   0.510026   \n",
       "45708  Young Boys Fan Token      YBO-USD  2023-05-04   0.499161   0.509820   \n",
       "45709  Young Boys Fan Token      YBO-USD  2023-05-05   0.494231   0.503893   \n",
       "45710  Young Boys Fan Token      YBO-USD  2023-05-06        NaN        NaN   \n",
       "45711  Young Boys Fan Token      YBO-USD  2023-05-07   0.451819   0.461414   \n",
       "\n",
       "             Low      Close       Volume  \n",
       "0       4.278654   5.944448          0.0  \n",
       "1       5.487044  18.385660  202569267.0  \n",
       "2      14.779701  14.827024  103583152.0  \n",
       "3      11.895096  12.321579   17046412.0  \n",
       "4      12.148839  12.433650   10146625.0  \n",
       "...          ...        ...          ...  \n",
       "45707   0.474290   0.499208      21902.0  \n",
       "45708   0.484603   0.494228      21723.0  \n",
       "45709   0.471165   0.483334      20773.0  \n",
       "45710        NaN        NaN          NaN  \n",
       "45711   0.447729   0.453547      18960.0  \n",
       "\n",
       "[45712 rows x 8 columns]"
      ]
     },
     "execution_count": 4,
     "metadata": {},
     "output_type": "execute_result"
    }
   ],
   "source": [
    "df_token_prices_raw "
   ]
  },
  {
   "cell_type": "code",
   "execution_count": 5,
   "id": "88369dfd-1f19-4525-b91e-962cfb2c4563",
   "metadata": {},
   "outputs": [
    {
     "data": {
      "text/plain": [
       "Club_Name      object\n",
       "Token_Name     object\n",
       "Date           object\n",
       "Open          float64\n",
       "High          float64\n",
       "Low           float64\n",
       "Close         float64\n",
       "Volume        float64\n",
       "dtype: object"
      ]
     },
     "execution_count": 5,
     "metadata": {},
     "output_type": "execute_result"
    }
   ],
   "source": [
    "df_token_prices_raw.dtypes"
   ]
  },
  {
   "cell_type": "code",
   "execution_count": 6,
   "id": "13038334-fada-4699-9a84-2b5bda190ec5",
   "metadata": {
    "tags": []
   },
   "outputs": [
    {
     "data": {
      "text/html": [
       "<div>\n",
       "<style scoped>\n",
       "    .dataframe tbody tr th:only-of-type {\n",
       "        vertical-align: middle;\n",
       "    }\n",
       "\n",
       "    .dataframe tbody tr th {\n",
       "        vertical-align: top;\n",
       "    }\n",
       "\n",
       "    .dataframe thead th {\n",
       "        text-align: right;\n",
       "    }\n",
       "</style>\n",
       "<table border=\"1\" class=\"dataframe\">\n",
       "  <thead>\n",
       "    <tr style=\"text-align: right;\">\n",
       "      <th></th>\n",
       "      <th>token_name;club_or_organisation_name</th>\n",
       "    </tr>\n",
       "  </thead>\n",
       "  <tbody>\n",
       "    <tr>\n",
       "      <th>0</th>\n",
       "      <td>ACM8538-USD;AC Milan Fan Token</td>\n",
       "    </tr>\n",
       "    <tr>\n",
       "      <th>1</th>\n",
       "      <td>ADANA-USD;Adanaspor Fan Token</td>\n",
       "    </tr>\n",
       "    <tr>\n",
       "      <th>2</th>\n",
       "      <td>AFC11532-USD;Arsenal Fan Token</td>\n",
       "    </tr>\n",
       "    <tr>\n",
       "      <th>3</th>\n",
       "      <td>AFYON-USD;Afyonspor Fan Token</td>\n",
       "    </tr>\n",
       "    <tr>\n",
       "      <th>4</th>\n",
       "      <td>ALA12649-USD;Alanyaspor Fan Token</td>\n",
       "    </tr>\n",
       "    <tr>\n",
       "      <th>...</th>\n",
       "      <td>...</td>\n",
       "    </tr>\n",
       "    <tr>\n",
       "      <th>71</th>\n",
       "      <td>UFC11533-USD;UFC Fan Token</td>\n",
       "    </tr>\n",
       "    <tr>\n",
       "      <th>72</th>\n",
       "      <td>VATRENI-USD;Croatian FF Fan Token</td>\n",
       "    </tr>\n",
       "    <tr>\n",
       "      <th>73</th>\n",
       "      <td>VCF-USD;Valencia CF Fan Token</td>\n",
       "    </tr>\n",
       "    <tr>\n",
       "      <th>74</th>\n",
       "      <td>VIT-USD;Team Vitality Fan Token</td>\n",
       "    </tr>\n",
       "    <tr>\n",
       "      <th>75</th>\n",
       "      <td>YBO-USD;Young Boys Fan Token</td>\n",
       "    </tr>\n",
       "  </tbody>\n",
       "</table>\n",
       "<p>76 rows × 1 columns</p>\n",
       "</div>"
      ],
      "text/plain": [
       "   token_name;club_or_organisation_name\n",
       "0        ACM8538-USD;AC Milan Fan Token\n",
       "1         ADANA-USD;Adanaspor Fan Token\n",
       "2        AFC11532-USD;Arsenal Fan Token\n",
       "3         AFYON-USD;Afyonspor Fan Token\n",
       "4     ALA12649-USD;Alanyaspor Fan Token\n",
       "..                                  ...\n",
       "71           UFC11533-USD;UFC Fan Token\n",
       "72    VATRENI-USD;Croatian FF Fan Token\n",
       "73        VCF-USD;Valencia CF Fan Token\n",
       "74      VIT-USD;Team Vitality Fan Token\n",
       "75         YBO-USD;Young Boys Fan Token\n",
       "\n",
       "[76 rows x 1 columns]"
      ]
     },
     "execution_count": 6,
     "metadata": {},
     "output_type": "execute_result"
    }
   ],
   "source": [
    "df_clubs_token_names"
   ]
  },
  {
   "cell_type": "code",
   "execution_count": 7,
   "id": "c4196490-09ce-4f91-b500-ecaded513b7b",
   "metadata": {
    "tags": []
   },
   "outputs": [
    {
     "data": {
      "text/plain": [
       "token_name;club_or_organisation_name    object\n",
       "dtype: object"
      ]
     },
     "execution_count": 7,
     "metadata": {},
     "output_type": "execute_result"
    }
   ],
   "source": [
    "df_clubs_token_names.dtypes"
   ]
  },
  {
   "cell_type": "code",
   "execution_count": 10,
   "id": "601d137c-e004-40e2-8dd2-676be14c370f",
   "metadata": {},
   "outputs": [
    {
     "name": "stdout",
     "output_type": "stream",
     "text": [
      "<class 'pandas.core.frame.DataFrame'>\n",
      "RangeIndex: 45712 entries, 0 to 45711\n",
      "Data columns (total 8 columns):\n",
      " #   Column      Non-Null Count  Dtype  \n",
      "---  ------      --------------  -----  \n",
      " 0   Club_Name   45712 non-null  object \n",
      " 1   Token_Name  45712 non-null  object \n",
      " 2   Date        45712 non-null  object \n",
      " 3   Open        45495 non-null  float64\n",
      " 4   High        45495 non-null  float64\n",
      " 5   Low         45495 non-null  float64\n",
      " 6   Close       45495 non-null  float64\n",
      " 7   Volume      45495 non-null  float64\n",
      "dtypes: float64(5), object(3)\n",
      "memory usage: 2.8+ MB\n"
     ]
    }
   ],
   "source": [
    "df_token_prices_raw.info()"
   ]
  },
  {
   "cell_type": "code",
   "execution_count": 11,
   "id": "fd4205db-919a-4fd7-b17a-0c926ce3ab15",
   "metadata": {},
   "outputs": [
    {
     "data": {
      "text/plain": [
       "Club_Name     False\n",
       "Token_Name    False\n",
       "Date          False\n",
       "Open           True\n",
       "High           True\n",
       "Low            True\n",
       "Close          True\n",
       "Volume         True\n",
       "dtype: bool"
      ]
     },
     "execution_count": 11,
     "metadata": {},
     "output_type": "execute_result"
    }
   ],
   "source": [
    "df_token_prices_raw.isnull().any()"
   ]
  },
  {
   "cell_type": "markdown",
   "id": "9f902d42-6bf7-4881-8c72-f9022002efff",
   "metadata": {},
   "source": [
    "## Clean the Club Names from \"Fan Token\" or \"Token\" substrings"
   ]
  },
  {
   "cell_type": "code",
   "execution_count": 8,
   "id": "d6eb836c-cca4-433a-a951-6df8522221f9",
   "metadata": {},
   "outputs": [],
   "source": [
    "def clean_club_names(club_name):\n",
    "    substring1 = \"Fan Token\"\n",
    "    substring2 = \"Token\"\n",
    "    if substring1 in club_name:\n",
    "        return club_name.replace(\" Fan Token\", \"\")\n",
    "    elif substring2 in club_name:\n",
    "        return club_name.replace(\" Token\", \"\")\n",
    "    else:\n",
    "        return club_name\n",
    "\n",
    "df_token_prices_raw.Club_Name = df_token_prices_raw.Club_Name.transform(lambda x: clean_club_names(x))"
   ]
  },
  {
   "cell_type": "code",
   "execution_count": 9,
   "id": "7a60faab-80cc-487b-a49f-d9688c5fe272",
   "metadata": {},
   "outputs": [
    {
     "data": {
      "text/html": [
       "<div>\n",
       "<style scoped>\n",
       "    .dataframe tbody tr th:only-of-type {\n",
       "        vertical-align: middle;\n",
       "    }\n",
       "\n",
       "    .dataframe tbody tr th {\n",
       "        vertical-align: top;\n",
       "    }\n",
       "\n",
       "    .dataframe thead th {\n",
       "        text-align: right;\n",
       "    }\n",
       "</style>\n",
       "<table border=\"1\" class=\"dataframe\">\n",
       "  <thead>\n",
       "    <tr style=\"text-align: right;\">\n",
       "      <th></th>\n",
       "      <th>token_name;club_or_organisation_name</th>\n",
       "    </tr>\n",
       "  </thead>\n",
       "  <tbody>\n",
       "    <tr>\n",
       "      <th>0</th>\n",
       "      <td>ACM8538-USD;AC Milan Fan Token</td>\n",
       "    </tr>\n",
       "    <tr>\n",
       "      <th>1</th>\n",
       "      <td>ADANA-USD;Adanaspor Fan Token</td>\n",
       "    </tr>\n",
       "    <tr>\n",
       "      <th>2</th>\n",
       "      <td>AFC11532-USD;Arsenal Fan Token</td>\n",
       "    </tr>\n",
       "    <tr>\n",
       "      <th>3</th>\n",
       "      <td>AFYON-USD;Afyonspor Fan Token</td>\n",
       "    </tr>\n",
       "    <tr>\n",
       "      <th>4</th>\n",
       "      <td>ALA12649-USD;Alanyaspor Fan Token</td>\n",
       "    </tr>\n",
       "    <tr>\n",
       "      <th>...</th>\n",
       "      <td>...</td>\n",
       "    </tr>\n",
       "    <tr>\n",
       "      <th>71</th>\n",
       "      <td>UFC11533-USD;UFC Fan Token</td>\n",
       "    </tr>\n",
       "    <tr>\n",
       "      <th>72</th>\n",
       "      <td>VATRENI-USD;Croatian FF Fan Token</td>\n",
       "    </tr>\n",
       "    <tr>\n",
       "      <th>73</th>\n",
       "      <td>VCF-USD;Valencia CF Fan Token</td>\n",
       "    </tr>\n",
       "    <tr>\n",
       "      <th>74</th>\n",
       "      <td>VIT-USD;Team Vitality Fan Token</td>\n",
       "    </tr>\n",
       "    <tr>\n",
       "      <th>75</th>\n",
       "      <td>YBO-USD;Young Boys Fan Token</td>\n",
       "    </tr>\n",
       "  </tbody>\n",
       "</table>\n",
       "<p>76 rows × 1 columns</p>\n",
       "</div>"
      ],
      "text/plain": [
       "   token_name;club_or_organisation_name\n",
       "0        ACM8538-USD;AC Milan Fan Token\n",
       "1         ADANA-USD;Adanaspor Fan Token\n",
       "2        AFC11532-USD;Arsenal Fan Token\n",
       "3         AFYON-USD;Afyonspor Fan Token\n",
       "4     ALA12649-USD;Alanyaspor Fan Token\n",
       "..                                  ...\n",
       "71           UFC11533-USD;UFC Fan Token\n",
       "72    VATRENI-USD;Croatian FF Fan Token\n",
       "73        VCF-USD;Valencia CF Fan Token\n",
       "74      VIT-USD;Team Vitality Fan Token\n",
       "75         YBO-USD;Young Boys Fan Token\n",
       "\n",
       "[76 rows x 1 columns]"
      ]
     },
     "execution_count": 9,
     "metadata": {},
     "output_type": "execute_result"
    }
   ],
   "source": [
    "df_clubs_token_names"
   ]
  },
  {
   "cell_type": "markdown",
   "id": "9f43a450-a6e7-45de-8c4b-19a6f480f357",
   "metadata": {},
   "source": [
    "## Filtering the token owning teams"
   ]
  },
  {
   "cell_type": "code",
   "execution_count": 14,
   "id": "bbdc8540-aa4a-4517-abf8-d437e9ebbd58",
   "metadata": {},
   "outputs": [
    {
     "data": {
      "text/plain": [
       "Club_Name      object\n",
       "Token_Name     object\n",
       "Date           object\n",
       "Open          float64\n",
       "High          float64\n",
       "Low           float64\n",
       "Close         float64\n",
       "Volume        float64\n",
       "dtype: object"
      ]
     },
     "execution_count": 14,
     "metadata": {},
     "output_type": "execute_result"
    }
   ],
   "source": [
    "df_token_prices_raw.dtypes"
   ]
  },
  {
   "cell_type": "code",
   "execution_count": 15,
   "id": "d213ed66-3d8e-4039-a1f8-aca981bb7483",
   "metadata": {},
   "outputs": [],
   "source": [
    "# Convert the date column to datetime dtype\n",
    "df_token_prices_raw[\"Date\"] = pd.to_datetime(df_token_prices_raw[\"Date\"], \n",
    "                                             format = \"%Y-%m-%d\", \n",
    "                                             yearfirst = True)\n",
    "\n",
    "# Add 3 additional columns from Date => Day, Month, Year\n",
    "df_token_prices_raw[\"Day\"] = df_token_prices_raw[\"Date\"].dt.day\n",
    "df_token_prices_raw[\"Month\"] = df_token_prices_raw[\"Date\"].dt.month\n",
    "df_token_prices_raw[\"Year\"] = df_token_prices_raw[\"Date\"].dt.year\n",
    "\n",
    "# reorder the columns\n",
    "cols = list(df_token_prices_raw.columns.values)\n",
    "df_token_prices_raw1 = df_token_prices_raw[cols[0:3] + cols[8:11] + cols[3:8]]"
   ]
  },
  {
   "cell_type": "code",
   "execution_count": 16,
   "id": "73242885-68d7-40d7-b84a-c9c691ebe113",
   "metadata": {},
   "outputs": [
    {
     "data": {
      "text/plain": [
       "Club_Name             object\n",
       "Token_Name            object\n",
       "Date          datetime64[ns]\n",
       "Day                    int64\n",
       "Month                  int64\n",
       "Year                   int64\n",
       "Open                 float64\n",
       "High                 float64\n",
       "Low                  float64\n",
       "Close                float64\n",
       "Volume               float64\n",
       "dtype: object"
      ]
     },
     "execution_count": 16,
     "metadata": {},
     "output_type": "execute_result"
    }
   ],
   "source": [
    "# R\n",
    "df_token_prices_raw1.dtypes"
   ]
  },
  {
   "cell_type": "code",
   "execution_count": 17,
   "id": "516a0c3a-0291-4192-adb4-048a62a106f3",
   "metadata": {},
   "outputs": [
    {
     "data": {
      "text/plain": [
       "Timestamp('2018-05-07 00:00:00')"
      ]
     },
     "execution_count": 17,
     "metadata": {},
     "output_type": "execute_result"
    }
   ],
   "source": [
    "# find the smallest Date in the DataFrame\n",
    "df_token_prices_raw1.Date.min()"
   ]
  },
  {
   "cell_type": "code",
   "execution_count": 40,
   "id": "aaebab84-6295-443a-ab79-8532d38cde50",
   "metadata": {},
   "outputs": [
    {
     "data": {
      "text/plain": [
       "Timestamp('2023-05-07 00:00:00')"
      ]
     },
     "execution_count": 40,
     "metadata": {},
     "output_type": "execute_result"
    }
   ],
   "source": [
    "# find the highest Date in the DataFrame\n",
    "df_token_prices_raw1.Date.max()"
   ]
  },
  {
   "cell_type": "code",
   "execution_count": 41,
   "id": "3421708d-91a6-4531-bcfa-ebacc4b1bc50",
   "metadata": {},
   "outputs": [
    {
     "data": {
      "text/plain": [
       "76"
      ]
     },
     "execution_count": 41,
     "metadata": {},
     "output_type": "execute_result"
    }
   ],
   "source": [
    "# find the number of unique clubs in the DataFrame\n",
    "len(df_token_prices_raw1.Club_Name.unique())"
   ]
  },
  {
   "cell_type": "code",
   "execution_count": 42,
   "id": "779cabb5-5482-495a-a514-c23e116b309f",
   "metadata": {},
   "outputs": [],
   "source": [
    "# Adjust some of the club names needed for further data merging.\n",
    "df_token_prices_raw1.loc[df_token_prices_raw1[\"Club_Name\"] == \"Fatih Karag?mr?k SK\", \"Club_Name\"] = \"Fatih Karagumruk SK\"\n",
    "df_token_prices_raw1.loc[df_token_prices_raw1[\"Club_Name\"] == \"Fenerbah?e\", \"Club_Name\"] = \"Fenerbahce\""
   ]
  },
  {
   "cell_type": "code",
   "execution_count": 44,
   "id": "885cc006-78f7-4642-91a2-7da29f64af29",
   "metadata": {},
   "outputs": [
    {
     "data": {
      "text/plain": [
       "array(['AC Milan', 'Adanaspor', 'Arsenal', 'Afyonspor', 'Alanyaspor',\n",
       "       'Alliance', 'Alpine F1 Team', 'Aston Martin Cognizant',\n",
       "       'Apollon Limassol', 'Argentine Football Association', 'AS Roma',\n",
       "       'Atletico De Madrid', 'Aston Villa', 'FC Barcelona', 'Bodrumspor',\n",
       "       'Brazil National Football Team', 'Baskonia',\n",
       "       'Club Atletico Independiente', 'Manchester City',\n",
       "       'Deportivo Alaves', 'Davis Cup', 'Dinamo Zagreb', 'Everton',\n",
       "       'RCD Espanyol', 'Fenerbahce', 'Fatih Karagumruk SK',\n",
       "       'Fortuna Sittard', 'Peruvian National Football Team',\n",
       "       'Galatasaray', 'Clube Atletico Mineiro', 'Genclerbirligi',\n",
       "       'Goztepe S.K.', 'Istanbul Basaksehir FK', 'Inter Milan',\n",
       "       'Italian National Football Team', 'Juventus', 'Kocaelispor',\n",
       "       'S.S. Lazio', 'Legia Warsaw', 'Levante U.D.', 'Leeds United',\n",
       "       'McLaren F1', 'Flamengo', 'Millonarios FC', 'MotoGP', 'MIBR',\n",
       "       'MXGP', 'Napoli', 'Natus Vincere', 'Novara Calcio', 'OG',\n",
       "       'Professional Fighters League', 'Portugal National Team',\n",
       "       'FC Porto', 'Paris Saint-Germain', 'Rangers',\n",
       "       'Roush Fenway Racing', 'Samsunspor', 'Santos FC',\n",
       "       'Alfa Romeo Racing ORLEN', 'S.C. Corinthians', 'FC Sion',\n",
       "       'Spain National', 'Sao Paulo FC',\n",
       "       'Sint-Truidense Voetbalvereniging',\n",
       "       'Turkish Basketball Federation', 'Team Heretics',\n",
       "       'Turkiye Motosiklet Federasyonu', 'Bursaspor', 'Trabzonspor',\n",
       "       'Universidad de Chile', 'UFC', 'Croatian FF', 'Valencia CF',\n",
       "       'Team Vitality', 'Young Boys'], dtype=object)"
      ]
     },
     "execution_count": 44,
     "metadata": {},
     "output_type": "execute_result"
    }
   ],
   "source": [
    "df_token_prices_raw1.Club_Name.unique()"
   ]
  },
  {
   "cell_type": "code",
   "execution_count": 18,
   "id": "8723ba48-b206-414e-8f39-e271c9f0cd2c",
   "metadata": {},
   "outputs": [
    {
     "data": {
      "text/plain": [
       "21"
      ]
     },
     "execution_count": 18,
     "metadata": {},
     "output_type": "execute_result"
    }
   ],
   "source": [
    "# here are the teams and championships that are important for this analysis\n",
    "\n",
    "teams_of_interest = [\"AC Milan\", \"Arsenal\", \"Alanyaspor\", \n",
    "                     \"AS Roma\", \"Atletico De Madrid\", \"Aston Villa\", \n",
    "                     \"FC Barcelona\", \"Manchester City\", \n",
    "                     \"Everton\", \"RCD Espanyol\", \"Fenerbahce\", \n",
    "                     \"Fatih Karagumruk SK\", \"Galatasaray\", \"Inter Milan\", \n",
    "                     \"Juventus\", \"S.S. Lazio\", \"Leeds United\", \n",
    "                     \"Napoli\", \"FC Porto\", \"Paris Saint-Germain\", \"Valencia CF\"]\n",
    "\n",
    "championships = [\"Premier League\", \"La Liga\", \"Serie A\", \n",
    "                 \"Ligue 1\", \"Fußball-Bundesliga\", \"Eredivisie\", \n",
    "                 \"Primeira Liga\", \"UEFA Champions League\", \"UEFA Europa League\", \n",
    "                 \"Süper Lig\", \"Belgian First Division A\"]\n",
    "\n",
    "needed_championships = [\"Premier League\", \"La Liga\", \"Serie A\", \n",
    "                        \"Ligue 1\", \"Primeira Liga\", \"Süper Lig\",      \n",
    "                        \"UEFA Champions League\", \"UEFA Europa League\"]\n",
    "\n",
    "\n",
    "len(teams_of_interest)"
   ]
  },
  {
   "cell_type": "markdown",
   "id": "f6836467-803e-4748-9c81-c6db731e7de9",
   "metadata": {
    "tags": []
   },
   "source": [
    "## Save the data as csv file"
   ]
  },
  {
   "cell_type": "code",
   "execution_count": 48,
   "id": "35fbcc58-9240-4cf7-9035-fa9199b989e7",
   "metadata": {},
   "outputs": [],
   "source": [
    "df_token_prices_raw1.to_csv(\"Datasets for Merging/token_prices_dataset.csv\", index = False)"
   ]
  }
 ],
 "metadata": {
  "kernelspec": {
   "display_name": "Python 3 (ipykernel)",
   "language": "python",
   "name": "python3"
  },
  "language_info": {
   "codemirror_mode": {
    "name": "ipython",
    "version": 3
   },
   "file_extension": ".py",
   "mimetype": "text/x-python",
   "name": "python",
   "nbconvert_exporter": "python",
   "pygments_lexer": "ipython3",
   "version": "3.10.9"
  }
 },
 "nbformat": 4,
 "nbformat_minor": 5
}
